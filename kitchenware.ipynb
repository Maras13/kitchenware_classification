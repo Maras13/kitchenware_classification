{
 "cells": [
  {
   "cell_type": "code",
   "execution_count": 1,
   "id": "4af15cb4",
   "metadata": {},
   "outputs": [],
   "source": [
    "import matplotlib.pyplot as plt\n",
    "from collections import defaultdict\n",
    "\n",
    "import PIL\n",
    "from hashlib import md5\n",
    "\n",
    "\n",
    "import numpy as np\n",
    "import pandas as pd\n",
    "import tensorflow as tf\n",
    "from pathlib import Path\n",
    "\n",
    "\n",
    "from tensorflow.keras.preprocessing import image\n",
    "from tensorflow.keras.preprocessing.image import load_img\n",
    "from tensorflow.keras.utils import to_categorical\n",
    "\n"
   ]
  },
  {
   "cell_type": "markdown",
   "id": "76699b02",
   "metadata": {},
   "source": [
    "## Load the data"
   ]
  },
  {
   "cell_type": "code",
   "execution_count": 2,
   "id": "47e3569b",
   "metadata": {},
   "outputs": [
    {
     "data": {
      "text/plain": [
       "'/Users/saramaras/Documents/github/kitchenware_classification'"
      ]
     },
     "execution_count": 2,
     "metadata": {},
     "output_type": "execute_result"
    }
   ],
   "source": [
    "pwd"
   ]
  },
  {
   "cell_type": "code",
   "execution_count": 3,
   "id": "4c11af78",
   "metadata": {},
   "outputs": [
    {
     "name": "stdout",
     "output_type": "stream",
     "text": [
      "LICENSE            \u001b[1m\u001b[36mdata\u001b[m\u001b[m/              kitchenware.ipynb\r\n",
      "README.md          \u001b[1m\u001b[36mimages\u001b[m\u001b[m/\r\n"
     ]
    }
   ],
   "source": [
    "ls"
   ]
  },
  {
   "cell_type": "code",
   "execution_count": 4,
   "id": "acff41cd",
   "metadata": {},
   "outputs": [],
   "source": [
    " #base structure\n",
    "project_dir = Path('/Users/saramaras/Documents/github/kitchenware_classification')\n",
    "img_dir = project_dir / 'images'\n",
    "\n",
    "\n",
    "# new structure\n",
    "dataset_dir = Path('/Users/saramaras/Documents/github/kitchenware_classification/data')\n",
    "\n",
    "\n",
    "train_dir= dataset_dir /'train'\n",
    "test_dir = dataset_dir / 'test'\n",
    "train_data = dataset_dir / 'train.csv'\n",
    "test_data = dataset_dir / 'test.csv'\n",
    "\n"
   ]
  },
  {
   "cell_type": "code",
   "execution_count": 5,
   "id": "a18e3451",
   "metadata": {},
   "outputs": [],
   "source": [
    "train_df = pd.read_csv(train_data)\n",
    "test_df = pd.read_csv(test_data)\n"
   ]
  },
  {
   "cell_type": "code",
   "execution_count": 6,
   "id": "cd67fcb4",
   "metadata": {},
   "outputs": [
    {
     "data": {
      "text/html": [
       "<div>\n",
       "<style scoped>\n",
       "    .dataframe tbody tr th:only-of-type {\n",
       "        vertical-align: middle;\n",
       "    }\n",
       "\n",
       "    .dataframe tbody tr th {\n",
       "        vertical-align: top;\n",
       "    }\n",
       "\n",
       "    .dataframe thead th {\n",
       "        text-align: right;\n",
       "    }\n",
       "</style>\n",
       "<table border=\"1\" class=\"dataframe\">\n",
       "  <thead>\n",
       "    <tr style=\"text-align: right;\">\n",
       "      <th></th>\n",
       "      <th>Id</th>\n",
       "      <th>label</th>\n",
       "    </tr>\n",
       "  </thead>\n",
       "  <tbody>\n",
       "    <tr>\n",
       "      <th>0</th>\n",
       "      <td>560</td>\n",
       "      <td>glass</td>\n",
       "    </tr>\n",
       "    <tr>\n",
       "      <th>1</th>\n",
       "      <td>4675</td>\n",
       "      <td>cup</td>\n",
       "    </tr>\n",
       "    <tr>\n",
       "      <th>2</th>\n",
       "      <td>875</td>\n",
       "      <td>glass</td>\n",
       "    </tr>\n",
       "    <tr>\n",
       "      <th>3</th>\n",
       "      <td>4436</td>\n",
       "      <td>spoon</td>\n",
       "    </tr>\n",
       "    <tr>\n",
       "      <th>4</th>\n",
       "      <td>8265</td>\n",
       "      <td>plate</td>\n",
       "    </tr>\n",
       "  </tbody>\n",
       "</table>\n",
       "</div>"
      ],
      "text/plain": [
       "     Id  label\n",
       "0   560  glass\n",
       "1  4675    cup\n",
       "2   875  glass\n",
       "3  4436  spoon\n",
       "4  8265  plate"
      ]
     },
     "execution_count": 6,
     "metadata": {},
     "output_type": "execute_result"
    }
   ],
   "source": [
    "train_df.head()"
   ]
  },
  {
   "cell_type": "code",
   "execution_count": 7,
   "id": "e4295d23",
   "metadata": {},
   "outputs": [],
   "source": [
    "# Map the labels with the photos"
   ]
  },
  {
   "cell_type": "code",
   "execution_count": 8,
   "id": "7afb271d",
   "metadata": {},
   "outputs": [],
   "source": [
    "train_df['filename'] = train_df['Id'].apply(lambda x: f\"{x:04d}.jpg\")"
   ]
  },
  {
   "cell_type": "code",
   "execution_count": 9,
   "id": "3ea7fea9",
   "metadata": {},
   "outputs": [],
   "source": [
    "test_df['filename'] = test_df['Id'].apply(lambda x: f\"{x:04d}.jpg\")"
   ]
  },
  {
   "cell_type": "code",
   "execution_count": 10,
   "id": "2bb476e2",
   "metadata": {
    "scrolled": true
   },
   "outputs": [
    {
     "data": {
      "text/html": [
       "<div>\n",
       "<style scoped>\n",
       "    .dataframe tbody tr th:only-of-type {\n",
       "        vertical-align: middle;\n",
       "    }\n",
       "\n",
       "    .dataframe tbody tr th {\n",
       "        vertical-align: top;\n",
       "    }\n",
       "\n",
       "    .dataframe thead th {\n",
       "        text-align: right;\n",
       "    }\n",
       "</style>\n",
       "<table border=\"1\" class=\"dataframe\">\n",
       "  <thead>\n",
       "    <tr style=\"text-align: right;\">\n",
       "      <th></th>\n",
       "      <th>Id</th>\n",
       "      <th>label</th>\n",
       "      <th>filename</th>\n",
       "    </tr>\n",
       "  </thead>\n",
       "  <tbody>\n",
       "    <tr>\n",
       "      <th>0</th>\n",
       "      <td>560</td>\n",
       "      <td>glass</td>\n",
       "      <td>0560.jpg</td>\n",
       "    </tr>\n",
       "    <tr>\n",
       "      <th>1</th>\n",
       "      <td>4675</td>\n",
       "      <td>cup</td>\n",
       "      <td>4675.jpg</td>\n",
       "    </tr>\n",
       "    <tr>\n",
       "      <th>2</th>\n",
       "      <td>875</td>\n",
       "      <td>glass</td>\n",
       "      <td>0875.jpg</td>\n",
       "    </tr>\n",
       "    <tr>\n",
       "      <th>3</th>\n",
       "      <td>4436</td>\n",
       "      <td>spoon</td>\n",
       "      <td>4436.jpg</td>\n",
       "    </tr>\n",
       "    <tr>\n",
       "      <th>4</th>\n",
       "      <td>8265</td>\n",
       "      <td>plate</td>\n",
       "      <td>8265.jpg</td>\n",
       "    </tr>\n",
       "  </tbody>\n",
       "</table>\n",
       "</div>"
      ],
      "text/plain": [
       "     Id  label  filename\n",
       "0   560  glass  0560.jpg\n",
       "1  4675    cup  4675.jpg\n",
       "2   875  glass  0875.jpg\n",
       "3  4436  spoon  4436.jpg\n",
       "4  8265  plate  8265.jpg"
      ]
     },
     "execution_count": 10,
     "metadata": {},
     "output_type": "execute_result"
    }
   ],
   "source": [
    "train_df.head()"
   ]
  },
  {
   "cell_type": "code",
   "execution_count": 11,
   "id": "7959577d",
   "metadata": {},
   "outputs": [
    {
     "data": {
      "text/html": [
       "<div>\n",
       "<style scoped>\n",
       "    .dataframe tbody tr th:only-of-type {\n",
       "        vertical-align: middle;\n",
       "    }\n",
       "\n",
       "    .dataframe tbody tr th {\n",
       "        vertical-align: top;\n",
       "    }\n",
       "\n",
       "    .dataframe thead th {\n",
       "        text-align: right;\n",
       "    }\n",
       "</style>\n",
       "<table border=\"1\" class=\"dataframe\">\n",
       "  <thead>\n",
       "    <tr style=\"text-align: right;\">\n",
       "      <th></th>\n",
       "      <th>Id</th>\n",
       "      <th>filename</th>\n",
       "    </tr>\n",
       "  </thead>\n",
       "  <tbody>\n",
       "    <tr>\n",
       "      <th>0</th>\n",
       "      <td>678</td>\n",
       "      <td>0678.jpg</td>\n",
       "    </tr>\n",
       "    <tr>\n",
       "      <th>1</th>\n",
       "      <td>3962</td>\n",
       "      <td>3962.jpg</td>\n",
       "    </tr>\n",
       "    <tr>\n",
       "      <th>2</th>\n",
       "      <td>9271</td>\n",
       "      <td>9271.jpg</td>\n",
       "    </tr>\n",
       "    <tr>\n",
       "      <th>3</th>\n",
       "      <td>5133</td>\n",
       "      <td>5133.jpg</td>\n",
       "    </tr>\n",
       "    <tr>\n",
       "      <th>4</th>\n",
       "      <td>8842</td>\n",
       "      <td>8842.jpg</td>\n",
       "    </tr>\n",
       "    <tr>\n",
       "      <th>...</th>\n",
       "      <td>...</td>\n",
       "      <td>...</td>\n",
       "    </tr>\n",
       "    <tr>\n",
       "      <th>3803</th>\n",
       "      <td>7626</td>\n",
       "      <td>7626.jpg</td>\n",
       "    </tr>\n",
       "    <tr>\n",
       "      <th>3804</th>\n",
       "      <td>2052</td>\n",
       "      <td>2052.jpg</td>\n",
       "    </tr>\n",
       "    <tr>\n",
       "      <th>3805</th>\n",
       "      <td>8827</td>\n",
       "      <td>8827.jpg</td>\n",
       "    </tr>\n",
       "    <tr>\n",
       "      <th>3806</th>\n",
       "      <td>2299</td>\n",
       "      <td>2299.jpg</td>\n",
       "    </tr>\n",
       "    <tr>\n",
       "      <th>3807</th>\n",
       "      <td>2212</td>\n",
       "      <td>2212.jpg</td>\n",
       "    </tr>\n",
       "  </tbody>\n",
       "</table>\n",
       "<p>3808 rows × 2 columns</p>\n",
       "</div>"
      ],
      "text/plain": [
       "        Id  filename\n",
       "0      678  0678.jpg\n",
       "1     3962  3962.jpg\n",
       "2     9271  9271.jpg\n",
       "3     5133  5133.jpg\n",
       "4     8842  8842.jpg\n",
       "...    ...       ...\n",
       "3803  7626  7626.jpg\n",
       "3804  2052  2052.jpg\n",
       "3805  8827  8827.jpg\n",
       "3806  2299  2299.jpg\n",
       "3807  2212  2212.jpg\n",
       "\n",
       "[3808 rows x 2 columns]"
      ]
     },
     "execution_count": 11,
     "metadata": {},
     "output_type": "execute_result"
    }
   ],
   "source": [
    "test_df"
   ]
  },
  {
   "cell_type": "markdown",
   "id": "2dce26b2",
   "metadata": {
    "scrolled": true
   },
   "source": [
    "## Checking duplicate images"
   ]
  },
  {
   "cell_type": "code",
   "execution_count": 12,
   "id": "039d13bb",
   "metadata": {},
   "outputs": [
    {
     "data": {
      "text/plain": [
       "9361"
      ]
     },
     "execution_count": 12,
     "metadata": {},
     "output_type": "execute_result"
    }
   ],
   "source": [
    "hash_dict = defaultdict(list)\n",
    "for image in img_dir.glob('*.jpg'):\n",
    "    with image.open('rb') as f:\n",
    "        img_hash = md5(f.read()).hexdigest() # what is this doing\n",
    "        hash_dict[img_hash].append(image)\n",
    "len(hash_dict)"
   ]
  },
  {
   "cell_type": "code",
   "execution_count": 13,
   "id": "1ec19393",
   "metadata": {},
   "outputs": [
    {
     "name": "stdout",
     "output_type": "stream",
     "text": [
      "[PosixPath('/Users/saramaras/Documents/github/kitchenware_classification/images/7469.jpg'), PosixPath('/Users/saramaras/Documents/github/kitchenware_classification/images/6624.jpg')]\n",
      "[PosixPath('/Users/saramaras/Documents/github/kitchenware_classification/images/4162.jpg'), PosixPath('/Users/saramaras/Documents/github/kitchenware_classification/images/3458.jpg')]\n",
      "[PosixPath('/Users/saramaras/Documents/github/kitchenware_classification/images/6833.jpg'), PosixPath('/Users/saramaras/Documents/github/kitchenware_classification/images/8532.jpg')]\n",
      "[PosixPath('/Users/saramaras/Documents/github/kitchenware_classification/images/7196.jpg'), PosixPath('/Users/saramaras/Documents/github/kitchenware_classification/images/7063.jpg')]\n",
      "[PosixPath('/Users/saramaras/Documents/github/kitchenware_classification/images/0237.jpg'), PosixPath('/Users/saramaras/Documents/github/kitchenware_classification/images/4234.jpg')]\n",
      "[PosixPath('/Users/saramaras/Documents/github/kitchenware_classification/images/5428.jpg'), PosixPath('/Users/saramaras/Documents/github/kitchenware_classification/images/7103.jpg')]\n"
     ]
    },
    {
     "data": {
      "text/plain": [
       "12"
      ]
     },
     "execution_count": 13,
     "metadata": {},
     "output_type": "execute_result"
    }
   ],
   "source": [
    "duplicate_img = []\n",
    "for k, v in hash_dict.items():\n",
    "    if len(v) > 1:\n",
    "        if v[0].name != v[1].name:\n",
    "            duplicate_img.append(v[0])\n",
    "            duplicate_img.append(v[1])\n",
    "            print(v)\n",
    "len(duplicate_img)"
   ]
  },
  {
   "cell_type": "code",
   "execution_count": 14,
   "id": "c9c44859",
   "metadata": {},
   "outputs": [
    {
     "data": {
      "image/png": "[encoded data removed]",
      "text/plain": [
       "<Figure size 864x576 with 12 Axes>"
      ]
     },
     "metadata": {
      "needs_background": "light"
     },
     "output_type": "display_data"
    }
   ],
   "source": [
    "plt.figure(figsize=(12,8))\n",
    "\n",
    "for idx, img in enumerate(duplicate_img):\n",
    "    im = PIL.Image.open(img)\n",
    "    plt.subplot(6,2, idx+1)\n",
    "    plt.imshow(im)\n",
    "    plt.axis('off')\n",
    "plt.show()\n"
   ]
  },
  {
   "cell_type": "markdown",
   "id": "da0f4f14",
   "metadata": {},
   "source": [
    "### Create directory structure"
   ]
  },
  {
   "cell_type": "code",
   "execution_count": 16,
   "id": "aef97e1f",
   "metadata": {},
   "outputs": [],
   "source": [
    "test_dir.mkdir(parents=True, exist_ok=True)\n",
    "for label in train_df.label.unique():\n",
    "    d = train_dir / label\n",
    "    d.mkdir(parents=True, exist_ok=True)"
   ]
  },
  {
   "cell_type": "code",
   "execution_count": null,
   "id": "9ff545b0",
   "metadata": {},
   "outputs": [],
   "source": [
    "## Move the images"
   ]
  },
  {
   "cell_type": "code",
   "execution_count": 17,
   "id": "fcafe65b",
   "metadata": {},
   "outputs": [
    {
     "name": "stdout",
     "output_type": "stream",
     "text": [
      "Found: 9367 images\n"
     ]
    }
   ],
   "source": [
    "images = list(img_dir.glob('*.jpg'))\n",
    "print(f'Found: {len(images)} images')"
   ]
  },
  {
   "cell_type": "code",
   "execution_count": null,
   "id": "daa99ef8",
   "metadata": {},
   "outputs": [],
   "source": []
  },
  {
   "cell_type": "code",
   "execution_count": 18,
   "id": "c593e5a4",
   "metadata": {},
   "outputs": [
    {
     "name": "stdout",
     "output_type": "stream",
     "text": [
      "Total moved: 5559\n"
     ]
    }
   ],
   "source": [
    "count = 0\n",
    "\n",
    "for img in train_df.filename.to_list():\n",
    "    label = train_df[train_df.filename == img].label.values[0]\n",
    "    img_path = img_dir / img\n",
    "    new_path = train_dir.absolute() / label / img\n",
    "    if not new_path.exists():\n",
    "        try: \n",
    "            new_path.write_bytes(img_path.read_bytes())\n",
    "            count += 1\n",
    "        except FileNotFoundError:\n",
    "            pass\n",
    "print(f'Total moved: {count}')\n",
    "        "
   ]
  },
  {
   "cell_type": "code",
   "execution_count": 19,
   "id": "bdc9442c",
   "metadata": {},
   "outputs": [
    {
     "name": "stdout",
     "output_type": "stream",
     "text": [
      "Total moved: 3808\n"
     ]
    }
   ],
   "source": [
    "count = 0\n",
    "for img in test_df.filename.to_list():\n",
    "    img_path = img_dir / img\n",
    "    new_path = test_dir.absolute() / img\n",
    "    if not new_path.exists():\n",
    "        try:\n",
    "            new_path.write_bytes(img_path.read_bytes())\n",
    "            count += 1\n",
    "        except FileNotFoundError:\n",
    "            pass\n",
    "print(f'Total moved: {count}')"
   ]
  },
  {
   "cell_type": "markdown",
   "id": "64bd8310",
   "metadata": {},
   "source": [
    "# Transfer Learning"
   ]
  },
  {
   "cell_type": "code",
   "execution_count": null,
   "id": "cecc4020",
   "metadata": {},
   "outputs": [],
   "source": []
  },
  {
   "cell_type": "code",
   "execution_count": null,
   "id": "8ef61a2b",
   "metadata": {},
   "outputs": [],
   "source": []
  },
  {
   "cell_type": "code",
   "execution_count": null,
   "id": "08cd5996",
   "metadata": {},
   "outputs": [],
   "source": []
  },
  {
   "cell_type": "markdown",
   "id": "2b7d032f",
   "metadata": {},
   "source": [
    "\n",
    "# Import images "
   ]
  },
  {
   "cell_type": "code",
   "execution_count": null,
   "id": "f8bad643",
   "metadata": {},
   "outputs": [],
   "source": []
  }
 ],
 "metadata": {
  "kernelspec": {
   "display_name": "Python 3",
   "language": "python",
   "name": "python3"
  },
  "language_info": {
   "codemirror_mode": {
    "name": "ipython",
    "version": 3
   },
   "file_extension": ".py",
   "mimetype": "text/x-python",
   "name": "python",
   "nbconvert_exporter": "python",
   "pygments_lexer": "ipython3",
   "version": "3.8.15"
  }
 },
 "nbformat": 4,
 "nbformat_minor": 5
}
